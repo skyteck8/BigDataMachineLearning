{
  "nbformat": 4,
  "nbformat_minor": 0,
  "metadata": {
    "colab": {
      "provenance": [],
      "include_colab_link": true
    },
    "kernelspec": {
      "name": "python3",
      "display_name": "Python 3"
    },
    "language_info": {
      "name": "python"
    }
  },
  "cells": [
    {
      "cell_type": "markdown",
      "metadata": {
        "id": "view-in-github",
        "colab_type": "text"
      },
      "source": [
        "<a href=\"https://colab.research.google.com/github/skyteck8/BigDataMachineLearning/blob/main/Copia_de_Act_3_1_Metricas_de_error_Sin_soluciones.ipynb\" target=\"_parent\"><img src=\"https://colab.research.google.com/assets/colab-badge.svg\" alt=\"Open In Colab\"/></a>"
      ]
    },
    {
      "cell_type": "markdown",
      "source": [
        "23_24 Carlos Javier Delgado Bolaños\n",
        "\n",
        "Actividad 3.1 - Métricas de error para los problemas de regresión\n",
        "\n",
        "A partir de los ejemplos indicados realizar los ejercicios propuestos"
      ],
      "metadata": {
        "id": "irnc2RYVuYVU"
      }
    },
    {
      "cell_type": "code",
      "execution_count": 2,
      "metadata": {
        "colab": {
          "base_uri": "https://localhost:8080/"
        },
        "id": "jVLFdfzxdsfG",
        "outputId": "329d813e-c540-4864-9288-84cddcc2da6a"
      },
      "outputs": [
        {
          "output_type": "execute_result",
          "data": {
            "text/plain": [
              "50.5"
            ]
          },
          "metadata": {},
          "execution_count": 2
        }
      ],
      "source": [
        "#Error absoluto medio - mae\n",
        "from sklearn.metrics import mean_absolute_error\n",
        "# Ejemplo 1\n",
        "y_true = [103, -100.5, 2, 107]\n",
        "y_pred = [102.5, 100, 2, 108]\n",
        "mean_absolute_error(y_pred, y_true)\n"
      ]
    },
    {
      "cell_type": "code",
      "source": [
        "penguins_true = [0,0,0,0,0,0,0,0,0,1,1,1,1,1,1,1,1,2,2,2,2,2,2,2,2,2]\n",
        "penguins_predict = [0,0,1,0,0,0,0,0,0,1,1,1,1,2,1,1,1,2,2,2,2,2,3,2,2,2]\n",
        "\n",
        "\n",
        "mean_absolute_error(penguins_predict, penguins_true)\n"
      ],
      "metadata": {
        "colab": {
          "base_uri": "https://localhost:8080/"
        },
        "id": "Yikm-l9XmRGJ",
        "outputId": "b6050a54-2a97-435b-c5fe-44a9a46fb9c6"
      },
      "execution_count": 3,
      "outputs": [
        {
          "output_type": "execute_result",
          "data": {
            "text/plain": [
              "0.11538461538461539"
            ]
          },
          "metadata": {},
          "execution_count": 3
        }
      ]
    },
    {
      "cell_type": "code",
      "source": [
        "# Ejer 1: Crear dos vectores/arrays de valores ciertos y valores previstos, y calcular el mae.\n",
        "# ¿Qué valores deberían de tener el array pred para que el error fuese 0? ¿y para que error fuese de 0.25?\n",
        "penguins_true = [0,0,0,0,0,0,0,0,0,1,1,1,1,1,1,1,1,2,2,2,2,2,2,2,2,2]\n",
        "penguins_predict = [0,0,0,0,0,0,0,0,0,1,1,1,1,1,1,1,1,2,2,2,2,2,2,2,2,2]\n",
        "\n",
        "\n",
        "mean_absolute_error(penguins_predict, penguins_true)"
      ],
      "metadata": {
        "id": "67XK1bXegMai",
        "colab": {
          "base_uri": "https://localhost:8080/"
        },
        "outputId": "d9cb0ca6-afd8-42c4-9a06-2ad301763e17"
      },
      "execution_count": 4,
      "outputs": [
        {
          "output_type": "execute_result",
          "data": {
            "text/plain": [
              "0.0"
            ]
          },
          "metadata": {},
          "execution_count": 4
        }
      ]
    },
    {
      "cell_type": "markdown",
      "source": [
        "Para que el valor sea 0 deben ser iguales el array de predicción y los datos predichos\n"
      ],
      "metadata": {
        "id": "HSTsd4CrJ2jw"
      }
    },
    {
      "cell_type": "code",
      "source": [
        "# Ejer 1: Crear dos vectores/arrays de valores ciertos y valores previstos, y calcular el mae.\n",
        "# ¿Qué valores deberían de tener el array pred para que el error fuese 0? ¿y para que error fuese de 0.25?\n",
        "penguins_true = [0,0,0,0,0,0,0,0,0,1,1,1,1,1,1,1,1,2,2,2,2,2,2,2,2,2]\n",
        "penguins_predict = [1,1,1,1,1,1,1,0,0,1,1,1,1,1,1,1,1,2,2,2,2,2,2,2,2,2]\n",
        "\n",
        "\n",
        "mean_absolute_error(penguins_predict, penguins_true)"
      ],
      "metadata": {
        "colab": {
          "base_uri": "https://localhost:8080/"
        },
        "id": "LG_7lEWHKCWW",
        "outputId": "d9a89847-451e-4aba-b238-edae0af11e50"
      },
      "execution_count": 14,
      "outputs": [
        {
          "output_type": "execute_result",
          "data": {
            "text/plain": [
              "0.2692307692307692"
            ]
          },
          "metadata": {},
          "execution_count": 14
        }
      ]
    },
    {
      "cell_type": "markdown",
      "source": [
        "para que el valor sea 0.25 debe de haber una varianza en los resultados finales de un 25% sobre el valor"
      ],
      "metadata": {
        "id": "47AMgQXAKYLu"
      }
    },
    {
      "cell_type": "code",
      "source": [
        "# Ejemplo 2\n",
        "y_true = [[0.5, 1], [-1, 1], [7, -6]]\n",
        "y_pred = [[0, 2], [-1, 2], [8, -5]]\n",
        "mean_absolute_error(y_pred, y_true)"
      ],
      "metadata": {
        "id": "3LhzsD30f60T",
        "colab": {
          "base_uri": "https://localhost:8080/"
        },
        "outputId": "688571af-d124-406a-b1ee-77516652d331"
      },
      "execution_count": null,
      "outputs": [
        {
          "output_type": "execute_result",
          "data": {
            "text/plain": [
              "0.75"
            ]
          },
          "metadata": {},
          "execution_count": 3
        }
      ]
    },
    {
      "cell_type": "code",
      "source": [
        "# Ejer 2: Crear dos matrices/arrays de valores ciertos y valores previstos, y calcular el mae.\n",
        "# ¿Qué valores deberían de tener el array pred para que el error fuese 0? ¿y para que error fuese de 0.33?\n",
        "penguins_true = [0,1,2,3,4,5,6,7,8,9]\n",
        "penguins_predict = [0,1,2,3,4,5,6,7,8,9]\n",
        "\n",
        "\n",
        "mean_absolute_error(penguins_predict, penguins_true)"
      ],
      "metadata": {
        "id": "LnPx6A4Astfq",
        "colab": {
          "base_uri": "https://localhost:8080/"
        },
        "outputId": "51e7978b-7657-4a67-f944-18856b4ec0bd"
      },
      "execution_count": 15,
      "outputs": [
        {
          "output_type": "execute_result",
          "data": {
            "text/plain": [
              "0.0"
            ]
          },
          "metadata": {},
          "execution_count": 15
        }
      ]
    },
    {
      "cell_type": "code",
      "source": [
        "penguins_true = [0,1,2,3,4,5,6,7,8,9]\n",
        "penguins_predict = [1,2,3,3,4,5,6,7,8,9]\n",
        "\n",
        "\n",
        "mean_absolute_error(penguins_predict, penguins_true)"
      ],
      "metadata": {
        "colab": {
          "base_uri": "https://localhost:8080/"
        },
        "id": "j5BZACulXuUb",
        "outputId": "30ff5752-ef01-48fa-f98c-6d45b841035d"
      },
      "execution_count": 21,
      "outputs": [
        {
          "output_type": "execute_result",
          "data": {
            "text/plain": [
              "0.3"
            ]
          },
          "metadata": {},
          "execution_count": 21
        }
      ]
    },
    {
      "cell_type": "markdown",
      "source": [
        "para que el valor se acerque a 0 el dato de entrenamiento y el predicho debe ser igual\n",
        "para que el valor sea 0.33 debe de haber una varianza en los resultados finales de un 33% sobre el valor"
      ],
      "metadata": {
        "id": "pi7v4dImX8fz"
      }
    },
    {
      "cell_type": "code",
      "source": [
        "# Error cuadrático medio - mse\n",
        "from sklearn.metrics import mean_squared_error\n",
        "y_true = [3, -0.5, 2, 7]\n",
        "y_pred = [2.5, 0.0, 2, 8]\n",
        "mean_squared_error(y_true, y_pred)\n"
      ],
      "metadata": {
        "colab": {
          "base_uri": "https://localhost:8080/"
        },
        "id": "59efr-GWgKP6",
        "outputId": "195cd7aa-c20e-4f45-b8fc-76ae617349d4"
      },
      "execution_count": 22,
      "outputs": [
        {
          "output_type": "execute_result",
          "data": {
            "text/plain": [
              "0.375"
            ]
          },
          "metadata": {},
          "execution_count": 22
        }
      ]
    },
    {
      "cell_type": "code",
      "source": [
        "# Ejer 3: Crear dos vectores/arrays de valores ciertos y valores previstos, y calcular el mse.\n",
        "# ¿Qué valores deberían de tener el array pred para que el error fuese 0? ¿y para que error fuese de 0.25?\n",
        "# Nota: Es muy interesante comparar los resultados al aplicaer mae y mse sobre el mismo conjunto de datos. Podrás obervar\n",
        "#       que mse \"penaliza más\" (es decir, el número que se obtiene es mayor) con las diferencias entre los valores originales y los predichos que mae\n",
        "penguins_true = [0,0,0,0,0,0,0,0,0,1,1,1,1,1,1,1,1,2,2,2,2,2,2,2,2,2]\n",
        "penguins_predict = [0,0,0,0,0,0,0,0,0,1,1,1,1,1,1,1,1,2,2,2,2,2,2,2,2,2]\n",
        "\n",
        "mean_squared_error(penguins_true, penguins_predict)"
      ],
      "metadata": {
        "id": "FLZt6j17u7sE",
        "colab": {
          "base_uri": "https://localhost:8080/"
        },
        "outputId": "6c2ef049-2d3f-43ba-b7e3-4b3b6ad1fd8f"
      },
      "execution_count": 23,
      "outputs": [
        {
          "output_type": "execute_result",
          "data": {
            "text/plain": [
              "0.0"
            ]
          },
          "metadata": {},
          "execution_count": 23
        }
      ]
    },
    {
      "cell_type": "code",
      "source": [
        "penguins_true = [0,0,0,0,0,0,0,0,0,1,1,1,1,1,1,1,1,2,2,2,2,2,2,2,2,2]\n",
        "penguins_predict = [1,1,1,1,1,1,1,0,0,1,1,1,1,1,1,1,1,2,2,2,2,2,2,2,2,2]\n",
        "\n",
        "\n",
        "mean_squared_error(penguins_predict, penguins_true)"
      ],
      "metadata": {
        "colab": {
          "base_uri": "https://localhost:8080/"
        },
        "id": "xuiKKL5PZkX7",
        "outputId": "2ac94390-f069-4a5a-b47b-f34abcef43b6"
      },
      "execution_count": 24,
      "outputs": [
        {
          "output_type": "execute_result",
          "data": {
            "text/plain": [
              "0.2692307692307692"
            ]
          },
          "metadata": {},
          "execution_count": 24
        }
      ]
    },
    {
      "cell_type": "markdown",
      "source": [
        "para que el valor sea 0 los dactos predichos y los los base deben ser iguales, para que sea del 33% debe tener una varianza de valores del 33%"
      ],
      "metadata": {
        "id": "eYVxgjrWfJvt"
      }
    },
    {
      "cell_type": "code",
      "source": [
        "# Ejer 4: Crear dos matrices/arrays de valores ciertos y valores previstos, y calcular el mae.\n",
        "# ¿Qué valores deberían de tener el array pred para que el error fuese 0? ¿y para que error fuese de 0.33?\n",
        "penguins_true = [0,1,2,3,4,5,6,7,8,9]\n",
        "penguins_predict = [0,1,2,3,4,5,6,7,8,9]\n",
        "\n",
        "\n",
        "mean_absolute_error(penguins_predict, penguins_true)\n",
        "\n",
        "\n",
        "\n"
      ],
      "metadata": {
        "id": "M9nZd4nLvIRB",
        "colab": {
          "base_uri": "https://localhost:8080/"
        },
        "outputId": "4a186afb-595d-4a37-99a9-e5cb6ae66fd8"
      },
      "execution_count": 26,
      "outputs": [
        {
          "output_type": "execute_result",
          "data": {
            "text/plain": [
              "0.0"
            ]
          },
          "metadata": {},
          "execution_count": 26
        }
      ]
    },
    {
      "cell_type": "code",
      "source": [
        "penguins_true = [0,1,2,3,4,5,6,7,8,9]\n",
        "penguins_predict = [1,2,3,3,4,5,6,7,8,9]\n",
        "\n",
        "\n",
        "mean_absolute_error(penguins_predict, penguins_true)"
      ],
      "metadata": {
        "colab": {
          "base_uri": "https://localhost:8080/"
        },
        "id": "UCMGouOeaNKN",
        "outputId": "c0749941-02a8-422b-eddc-ac4e1bc57ced"
      },
      "execution_count": 27,
      "outputs": [
        {
          "output_type": "execute_result",
          "data": {
            "text/plain": [
              "0.3"
            ]
          },
          "metadata": {},
          "execution_count": 27
        }
      ]
    },
    {
      "cell_type": "markdown",
      "source": [
        "para que el valor sea 0 los dactos predichos y los los base deben ser iguales, para que sea del 33% debe tener una varianza de valores del 33%"
      ],
      "metadata": {
        "id": "cQ8-LljLfZuO"
      }
    },
    {
      "cell_type": "code",
      "source": [],
      "metadata": {
        "id": "nWiRBFuBaLps"
      },
      "execution_count": null,
      "outputs": []
    },
    {
      "cell_type": "code",
      "source": [
        "# Error de porcentaje absoluto medio - mape\n",
        "from sklearn.metrics import mean_absolute_percentage_error\n",
        "y_true = [3, -0.5, 2, 7]\n",
        "y_pred = [2.5, 0.0, 2, 8]\n",
        "mean_absolute_percentage_error(y_true, y_pred)"
      ],
      "metadata": {
        "colab": {
          "base_uri": "https://localhost:8080/"
        },
        "id": "0j3DDJPnBTmF",
        "outputId": "d20a2521-dc55-4278-d4b2-55ccee49e90f"
      },
      "execution_count": 28,
      "outputs": [
        {
          "output_type": "execute_result",
          "data": {
            "text/plain": [
              "0.3273809523809524"
            ]
          },
          "metadata": {},
          "execution_count": 28
        }
      ]
    },
    {
      "cell_type": "code",
      "source": [
        "# Ejer 5: Crear dos vectores/arrays de valores ciertos y valores previstos, y calcular el mape.\n",
        "# ¿Qué valores deberían de tener el array pred para que el error fuese 0?\n",
        "penguins_true = [0,0,0,0,0,0,0,0,0,1,1,1,1,1,1,1,1,2,2,2,2,2,2,2,2,2]\n",
        "penguins_predict = [0,0,0,0,0,0,0,0,0,1,1,1,1,1,1,1,1,2,2,2,2,2,2,2,2,2]\n",
        "\n",
        "\n",
        "mean_absolute_percentage_error(penguins_predict, penguins_true)"
      ],
      "metadata": {
        "id": "0vsYXdRqB0TE",
        "colab": {
          "base_uri": "https://localhost:8080/"
        },
        "outputId": "6f2af359-e841-4624-8af8-9ef5fb1b34c0"
      },
      "execution_count": 29,
      "outputs": [
        {
          "output_type": "execute_result",
          "data": {
            "text/plain": [
              "0.0"
            ]
          },
          "metadata": {},
          "execution_count": 29
        }
      ]
    },
    {
      "cell_type": "code",
      "source": [
        "penguins_true = [0,0,0,0,0,0,0,0,0,1,1,1,1,1,1,1,1,2,2,2,2,2,2,2,2,2]\n",
        "penguins_predict = [1,1,1,1,1,1,1,0,0,1,1,1,1,1,1,1,1,2,2,2,2,2,2,2,2,2]\n",
        "\n",
        "\n",
        "mean_absolute_percentage_error(penguins_predict, penguins_true)"
      ],
      "metadata": {
        "colab": {
          "base_uri": "https://localhost:8080/"
        },
        "id": "GzoDsRKEaZJ8",
        "outputId": "1609365b-b234-4889-9e2e-0610cab924e1"
      },
      "execution_count": 31,
      "outputs": [
        {
          "output_type": "execute_result",
          "data": {
            "text/plain": [
              "0.2692307692307692"
            ]
          },
          "metadata": {},
          "execution_count": 31
        }
      ]
    },
    {
      "cell_type": "markdown",
      "source": [
        "para que el valor sea 0 los dactos predichos y los los base deben ser iguales, para que sea del 25% debe tener una varianza del 25% de los resultados no de los valores"
      ],
      "metadata": {
        "id": "lqBz1vjMfhst"
      }
    },
    {
      "cell_type": "code",
      "source": [
        "# Ejer 6: Crear dos matrices/arrays de valores ciertos y valores previstos, y calcular el MAPE.\n",
        "# ¿Qué valores deberían de tener el array pred para que el error fuese 0?"
      ],
      "metadata": {
        "id": "085pmFVO-cA3"
      },
      "execution_count": 32,
      "outputs": []
    },
    {
      "cell_type": "code",
      "source": [
        "penguins_true = [1,2,3,3,4,5,6,7,8,9]\n",
        "penguins_predict = [1,2,3,3,4,5,6,7,8,9]\n",
        "\n",
        "\n",
        "mean_absolute_percentage_error(penguins_predict, penguins_true)"
      ],
      "metadata": {
        "colab": {
          "base_uri": "https://localhost:8080/"
        },
        "id": "_JDJCkKualLM",
        "outputId": "ad89c427-b2a1-4c2a-fac3-39fff65e5bc1"
      },
      "execution_count": 33,
      "outputs": [
        {
          "output_type": "execute_result",
          "data": {
            "text/plain": [
              "0.0"
            ]
          },
          "metadata": {},
          "execution_count": 33
        }
      ]
    },
    {
      "cell_type": "markdown",
      "source": [
        "para que el valor sea 0 los dactos predichos y los los base deben ser iguales."
      ],
      "metadata": {
        "id": "YppiJw_LgBdd"
      }
    },
    {
      "cell_type": "code",
      "source": [
        "penguins_true = [0,1,2,3,4,5,6,7,8,9]\n",
        "penguins_predict = [1,2,3,3,4,5,6,7,8,9]\n",
        "\n",
        "\n",
        "mean_absolute_percentage_error(penguins_predict, penguins_true)"
      ],
      "metadata": {
        "colab": {
          "base_uri": "https://localhost:8080/"
        },
        "id": "u7U9SKqcahDT",
        "outputId": "91ae883c-0e9e-47f7-cd3c-450471c375bb"
      },
      "execution_count": 34,
      "outputs": [
        {
          "output_type": "execute_result",
          "data": {
            "text/plain": [
              "0.18333333333333332"
            ]
          },
          "metadata": {},
          "execution_count": 34
        }
      ]
    }
  ]
}