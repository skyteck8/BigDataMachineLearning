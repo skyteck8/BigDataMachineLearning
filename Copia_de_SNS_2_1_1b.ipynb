{
  "nbformat": 4,
  "nbformat_minor": 0,
  "metadata": {
    "colab": {
      "provenance": [],
      "include_colab_link": true
    },
    "kernelspec": {
      "name": "python3",
      "display_name": "Python 3"
    },
    "language_info": {
      "name": "python"
    }
  },
  "cells": [
    {
      "cell_type": "markdown",
      "metadata": {
        "id": "view-in-github",
        "colab_type": "text"
      },
      "source": [
        "<a href=\"https://colab.research.google.com/github/skyteck8/BigDataMachineLearning/blob/main/Copia_de_SNS_2_1_1b.ipynb\" target=\"_parent\"><img src=\"https://colab.research.google.com/assets/colab-badge.svg\" alt=\"Open In Colab\"/></a>"
      ]
    },
    {
      "cell_type": "markdown",
      "metadata": {
        "id": "JNlEk7ihS-5l"
      },
      "source": [
        "# **Ejemplo 5:** Escalamiento de datos\n",
        "Carlos JAvier Delgado Bolaños\n",
        "---\n",
        "\n"
      ]
    },
    {
      "cell_type": "code",
      "source": [
        "import numpy as np\n",
        "\n",
        "x=[1,2,3,4,5,6,7,8,9,10]\n",
        "mediaX=np.mean(x)\n",
        "print(\"Media\", mediaX)\n",
        "np.median(x)\n",
        "print(\"Mediana\", mediaX)\n",
        "# Calcular la desviación estándar muestral\n",
        "desviacion_estandar_muestral = np.std(x, ddof=1)\n",
        "\n",
        "# Calcular la varianza muestral\n",
        "varianza_muestral = np.var(x, ddof=1)\n",
        "\n",
        "# Calcular el rango\n",
        "rango = np.max(x) - np.min(x)\n",
        "\n",
        "print(\"Desviación estándar muestral\", desviacion_estandar_muestral)\n",
        "print(\"Varianza muestral\", varianza_muestral)\n",
        "print(\"Rango\", rango)"
      ],
      "metadata": {
        "colab": {
          "base_uri": "https://localhost:8080/"
        },
        "id": "79011z_7bxk8",
        "outputId": "c929fa78-41af-4632-f014-3b0d4896f3ce"
      },
      "execution_count": null,
      "outputs": [
        {
          "output_type": "stream",
          "name": "stdout",
          "text": [
            "Media 5.5\n",
            "Mediana 5.5\n",
            "Desviación estándar muestral 3.0276503540974917\n",
            "Varianza muestral 9.166666666666666\n",
            "Rango 9\n"
          ]
        }
      ]
    },
    {
      "cell_type": "code",
      "source": [
        "import pandas as pd\n",
        "df_x=pd.DataFrame(x)\n",
        "\n",
        "print(df_x.describe())\n",
        "print(df_x)"
      ],
      "metadata": {
        "colab": {
          "base_uri": "https://localhost:8080/"
        },
        "id": "unvCv9MFdsgs",
        "outputId": "4d078bbb-bbc8-4c3f-9c3b-1ed30999c14d"
      },
      "execution_count": null,
      "outputs": [
        {
          "output_type": "stream",
          "name": "stdout",
          "text": [
            "              0\n",
            "count  10.00000\n",
            "mean    5.50000\n",
            "std     3.02765\n",
            "min     1.00000\n",
            "25%     3.25000\n",
            "50%     5.50000\n",
            "75%     7.75000\n",
            "max    10.00000\n",
            "    0\n",
            "0   1\n",
            "1   2\n",
            "2   3\n",
            "3   4\n",
            "4   5\n",
            "5   6\n",
            "6   7\n",
            "7   8\n",
            "8   9\n",
            "9  10\n"
          ]
        }
      ]
    },
    {
      "cell_type": "code",
      "source": [
        "from sklearn.compose import ColumnTransformer\n",
        "from sklearn.preprocessing import StandardScaler  # Para el escalamiento Estandarización Z\n",
        "from sklearn.preprocessing import MinMaxScaler # Para el escalamiento por Rangos\n",
        "x_pandas=pd.Series([1,2,3,4,5,6,7,8,9,10])\n",
        "numeric_cols=Data.select_dtypes(include=['float64', 'int']).columns.to_list()\n",
        "Data = pd.DataFrame(x_pandas, columns=[\"numeros\"])\n",
        "preprocessor_RR = ColumnTransformer(\n",
        "                   [('scale', MinMaxScaler(), numeric_cols)],remainder='passthrough')\n",
        "\n",
        "\n",
        "Data_prep_RR = preprocessor_RR.fit_transform(Data)\n",
        "\n",
        "mediaX1=np.mean(Data_prep_RR)\n",
        "print(\"Media\", mediaX1)\n",
        "mediaX2=np.median(Data_prep_RR)\n",
        "print(\"Mediana\", mediaX2)\n",
        "\n"
      ],
      "metadata": {
        "colab": {
          "base_uri": "https://localhost:8080/"
        },
        "id": "m0UkviyPpSUe",
        "outputId": "b02a2d20-2b13-4592-d864-b403377e1552"
      },
      "execution_count": null,
      "outputs": [
        {
          "output_type": "stream",
          "name": "stdout",
          "text": [
            "Media 0.5\n",
            "Mediana 0.5\n"
          ]
        }
      ]
    },
    {
      "cell_type": "code",
      "source": [
        "preprocessor_SS = ColumnTransformer(\n",
        "                   [('scale', StandardScaler(), numeric_cols)],remainder='passthrough')\n",
        "\n",
        "\n",
        "Data_prep_RR = preprocessor_RR.fit_transform(Data)\n",
        "print(Data_prep_RR)"
      ],
      "metadata": {
        "colab": {
          "base_uri": "https://localhost:8080/"
        },
        "id": "dNnC5_Lu-qID",
        "outputId": "fa4c2ad5-d7f7-48ce-e211-f48d11fa4a84"
      },
      "execution_count": null,
      "outputs": [
        {
          "output_type": "stream",
          "name": "stdout",
          "text": [
            "[[0.        ]\n",
            " [0.11111111]\n",
            " [0.22222222]\n",
            " [0.33333333]\n",
            " [0.44444444]\n",
            " [0.55555556]\n",
            " [0.66666667]\n",
            " [0.77777778]\n",
            " [0.88888889]\n",
            " [1.        ]]\n"
          ]
        }
      ]
    },
    {
      "cell_type": "code",
      "metadata": {
        "id": "ZXs_JcsqTF59"
      },
      "source": [
        "# LIBRERÍAS EMPLEADAS EN EL EJEMPLO\n",
        "# Tratamiento de datos\n",
        "# ==============================================================================\n",
        "import numpy as np\n",
        "import pandas as pd\n",
        "# Gráficos\n",
        "# ==============================================================================\n",
        "import matplotlib.pyplot as plt\n",
        "# Preprocesado\n",
        "#==============================================================================\n",
        "from sklearn.compose import ColumnTransformer\n",
        "from sklearn.preprocessing import StandardScaler  # Para el escalamiento Estandarización Z\n",
        "from sklearn.preprocessing import MinMaxScaler # Para el escalamiento por Rangos\n",
        "from sklearn.compose import make_column_selector\n",
        "\n",
        "# Creación del conjunto de datos (dos máquinas embotelladoras)\n",
        "# ==============================================================================\n",
        "muA, sigmaA = 1000, 1 # media y desviación estándar embotelladora A\n",
        "muB, sigmaB = 1000, 4 # media y desviación estándar embotelladora B\n",
        "datosA = np.random.normal(muA, sigmaA, 1000)\n",
        "datosB = np.random.normal(muB, sigmaB, 1000)\n",
        "datos=np.column_stack((datosA, datosB))\n",
        "x=[1,2,3,4,5,6,7,8,9,10]\n",
        "mediaX=np.mean(x)\n",
        "print(mediaX)\n",
        "# Título: ¿qué es un DataFrame?\n",
        "#Url: https://datacarpentry.org/python-ecology-lesson-es/02-starting-with-data/#entonces-qu%C3%A9-es-un-dataframe\n",
        "Data = pd.DataFrame(datos, columns=['Embotelladora_A', 'Embotelladora_B'])\n",
        "\n",
        "# Escalamiento\n",
        "# ==============================================================================\n",
        "# Selección de columnas numéricas\n",
        "numeric_cols = Data.select_dtypes(include=['float64', 'int']).columns.to_list()\n",
        "# Standard scaler - Definimos el tipo de escalamientoa realizar: estandarización Z-score\n",
        "preprocessor_SS = ColumnTransformer(\n",
        "                   [('scale', StandardScaler(), numeric_cols)],remainder='passthrough')\n",
        "\n",
        "# MinMaxScaler - Definimos el tipo de escalamiento a realizar: Estandarización por rangos\n",
        "preprocessor_RR = ColumnTransformer(\n",
        "                   [('scale', MinMaxScaler(), numeric_cols)],remainder='passthrough')\n",
        "\n",
        "Data_prep_SS = preprocessor_SS.fit_transform(Data)\n",
        "Data_prep_RR = preprocessor_RR.fit_transform(Data)\n",
        "# Nota:\n",
        "# Se podría aplicar las transformaciones a cualquier conjunto de datos con\n",
        "# Data_new_prep_SS  = preprocessor_SS.transform(Data_new)\n",
        "Data_prep_SS_v2  = preprocessor_SS.transform(Data) # Podemos observar que los resultados son los mismos que el método fit_transform\n",
        "\n",
        "# Título: Diferencia entre fit_transform() y transform() en Scikit-Learn\n",
        "# Url: https://forum.huawei.com/enterprise/es/diferencia-entre-fit-transform-y-transform-en-scikit-learn/thread/891275-100757"
      ],
      "execution_count": null,
      "outputs": []
    },
    {
      "cell_type": "code",
      "source": [
        "# Histograma antes de escalamiento\n",
        "plt.hist(Data, 50)\n",
        "plt.ylabel('Número de datos')\n",
        "plt.xlabel('valores')\n",
        "plt.title('Histograma antes de escalamiento')\n",
        "plt.show()"
      ],
      "metadata": {
        "colab": {
          "base_uri": "https://localhost:8080/",
          "height": 472
        },
        "id": "gB5pTCLd3QvU",
        "outputId": "b16f4751-e7c8-4de4-c0a1-b5f31d9b6853"
      },
      "execution_count": null,
      "outputs": [
        {
          "output_type": "display_data",
          "data": {
            "text/plain": [
              "<Figure size 640x480 with 1 Axes>"
            ],
            "image/png": "[encoded data removed]"
          },
          "metadata": {}
        }
      ]
    },
    {
      "cell_type": "markdown",
      "metadata": {
        "id": "msK4x0lsT9aV"
      },
      "source": [
        "Representacióón de los datos escalado con **Standard Scaler**\n",
        " - Estandariación/Escalamiento por desviación típica\n"
      ]
    },
    {
      "cell_type": "code",
      "metadata": {
        "colab": {
          "base_uri": "https://localhost:8080/",
          "height": 472
        },
        "id": "0y6FUrwLUipt",
        "outputId": "e5685ff3-d517-4811-b7fd-2ab4aab7561e"
      },
      "source": [
        "plt.hist(Data_prep_SS, 50)\n",
        "plt.ylabel('Número de datos')\n",
        "plt.xlabel('valores')\n",
        "plt.title('Histograma con Standard scaler - Estandarización Z')\n",
        "plt.show()"
      ],
      "execution_count": null,
      "outputs": [
        {
          "output_type": "display_data",
          "data": {
            "text/plain": [
              "<Figure size 640x480 with 1 Axes>"
            ],
            "image/png": "[encoded data removed]"
          },
          "metadata": {}
        }
      ]
    },
    {
      "cell_type": "markdown",
      "metadata": {
        "id": "AM9ZLM4Vs64f"
      },
      "source": [
        "**NOTA** Observar que las **dos** variables tienen la misma desviación típica (s=1)"
      ]
    },
    {
      "cell_type": "code",
      "source": [
        "Data_prep_SS.std()\n"
      ],
      "metadata": {
        "colab": {
          "base_uri": "https://localhost:8080/"
        },
        "id": "kVSO26IL7REf",
        "outputId": "ee5f4e71-e174-4e5e-ab95-8d23f5aa9ef7"
      },
      "execution_count": null,
      "outputs": [
        {
          "output_type": "execute_result",
          "data": {
            "text/plain": [
              "1.0000000000000002"
            ]
          },
          "metadata": {},
          "execution_count": 6
        }
      ]
    },
    {
      "cell_type": "markdown",
      "metadata": {
        "id": "InNWa2tdV1yb"
      },
      "source": [
        "Representación de los datos escalado con **Min Max Scaler** - Estandariación/Escalamiento por rangos\n",
        "\n"
      ]
    },
    {
      "cell_type": "code",
      "metadata": {
        "colab": {
          "base_uri": "https://localhost:8080/",
          "height": 472
        },
        "id": "tb5uNSt5Vgx-",
        "outputId": "8f55b71d-6671-419f-c233-0eb45cda2b3c"
      },
      "source": [
        "plt.hist(Data_prep_RR, 50)\n",
        "plt.ylabel('Número de datos')\n",
        "plt.xlabel('valores')\n",
        "plt.title('Histograma con MinMaxScaler - Por Rangos')\n",
        "plt.show()"
      ],
      "execution_count": null,
      "outputs": [
        {
          "output_type": "display_data",
          "data": {
            "text/plain": [
              "<Figure size 640x480 with 1 Axes>"
            ],
            "image/png": "[encoded data removed]"
          },
          "metadata": {}
        }
      ]
    },
    {
      "cell_type": "markdown",
      "metadata": {
        "id": "oVEusoT3tST1"
      },
      "source": [
        "**NOTA** Observar que las **dos** variables tienen el mismo rango"
      ]
    },
    {
      "cell_type": "code",
      "source": [
        "#Rango\n",
        "#Data_prep_RR[:,0]\n",
        "np.max(Data_prep_RR[:,0])-np.min(Data_prep_RR[:,0])"
      ],
      "metadata": {
        "colab": {
          "base_uri": "https://localhost:8080/"
        },
        "id": "1wmnQasXIbl3",
        "outputId": "239aae28-b033-4f6c-8e2a-ce9cb6854e66"
      },
      "execution_count": null,
      "outputs": [
        {
          "output_type": "execute_result",
          "data": {
            "text/plain": [
              "1.0"
            ]
          },
          "metadata": {},
          "execution_count": 8
        }
      ]
    },
    {
      "cell_type": "code",
      "source": [
        "#Rango\n",
        "#Data_prep_RR[:,1]\n",
        "np.max(Data_prep_RR[:,1])-np.min(Data_prep_RR[:,1])"
      ],
      "metadata": {
        "colab": {
          "base_uri": "https://localhost:8080/"
        },
        "id": "o_RLBkVWIeR4",
        "outputId": "6269a86f-62e8-4e4e-a87d-e64bad2b6d73"
      },
      "execution_count": null,
      "outputs": [
        {
          "output_type": "execute_result",
          "data": {
            "text/plain": [
              "1.0"
            ]
          },
          "metadata": {},
          "execution_count": 9
        }
      ]
    }
  ]
}